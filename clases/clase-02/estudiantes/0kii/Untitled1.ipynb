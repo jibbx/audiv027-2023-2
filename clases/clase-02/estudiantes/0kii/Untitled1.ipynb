{
  "cells": [
    {
      "cell_type": "markdown",
      "metadata": {
        "id": "ZUD4nbAKe_8v"
      },
      "source": [
        "fuente\n",
        "https://blog.devgenius.io/python-environment-management-d920f20ea53e"
      ]
    },
    {
      "cell_type": "markdown",
      "source": [],
      "metadata": {
        "id": "Rsryg1fOPt-O"
      }
    },
    {
      "cell_type": "markdown",
      "source": [],
      "metadata": {
        "id": "avjUxWM5PuNe"
      }
    },
    {
      "cell_type": "code",
      "execution_count": null,
      "metadata": {
        "id": "18JMUFeUkBQi"
      },
      "outputs": [],
      "source": [
        "# clonar repositorio de ml5.js para entrenar algoritmo char-RNN\n",
        "! git clone https://github.com/ml5js/training-charRNN"
      ]
    },
    {
      "cell_type": "code",
      "execution_count": null,
      "metadata": {
        "id": "F27hQCCikHlf"
      },
      "outputs": [],
      "source": [
        "# cd = cambiar directorio, moverse a la carpeta instalada\n",
        "%cd training-charRNN/"
      ]
    },
    {
      "cell_type": "code",
      "execution_count": null,
      "metadata": {
        "id": "rcpUrQmpkIIr"
      },
      "outputs": [],
      "source": [
        "# pwd es print working directory = imprimir directorio actual\n",
        "!pwd"
      ]
    },
    {
      "cell_type": "code",
      "execution_count": null,
      "metadata": {
        "id": "P6MC89pLdvyN"
      },
      "outputs": [],
      "source": [
        "!export PYENV_ROOT=\"$HOME/.pyenv\" && export PATH=\"$PYENV_ROOT/bin:$PATH\" && eval \"$(pyenv init — path)\""
      ]
    },
    {
      "cell_type": "code",
      "execution_count": null,
      "metadata": {
        "id": "AK92XccMdXdj"
      },
      "outputs": [],
      "source": [
        "#https://github.com/pyenv/pyenv-installer\n",
        "!curl https://pyenv.run | bash"
      ]
    },
    {
      "cell_type": "code",
      "execution_count": null,
      "metadata": {
        "id": "3lLZZ9fCd2s6"
      },
      "outputs": [],
      "source": [
        "!export PYENV_ROOT=\"$HOME/.pyenv\" && export PATH=\"$PYENV_ROOT/bin:$PATH\" && pyenv install -list | grep \"3\\.[6]\""
      ]
    },
    {
      "cell_type": "code",
      "execution_count": null,
      "metadata": {
        "id": "FlOjbW8je9bo"
      },
      "outputs": [],
      "source": [
        "# install python 3.6.15\n",
        "!export PYENV_ROOT=\"$HOME/.pyenv\" && export PATH=\"$PYENV_ROOT/bin:$PATH\" && pyenv install 3.6.15\n",
        "!export PYENV_ROOT=\"$HOME/.pyenv\" && export PATH=\"$PYENV_ROOT/bin:$PATH\" && pyenv versions"
      ]
    },
    {
      "cell_type": "code",
      "execution_count": null,
      "metadata": {
        "id": "Cl-I1bCtfM6M"
      },
      "outputs": [],
      "source": [
        "!export PYENV_ROOT=\"$HOME/.pyenv\" && export PATH=\"$PYENV_ROOT/bin:$PATH\" && mkdir -p /content/training-charRNN/ && cd /content/training-charRNN/ && pyenv virtualenv 3.6.15 training-charRNN\n",
        "!export PYENV_ROOT=\"$HOME/.pyenv\" && export PATH=\"$PYENV_ROOT/bin:$PATH\" && pyenv versions"
      ]
    },
    {
      "cell_type": "code",
      "execution_count": null,
      "metadata": {
        "id": "rIImYKRCgshV"
      },
      "outputs": [],
      "source": [
        "!export PYENV_ROOT=\"$HOME/.pyenv\" && export PATH=\"$PYENV_ROOT/bin:$PATH\" && pyenv versions\n",
        "!export PYENV_ROOT=\"$HOME/.pyenv\" && export PATH=\"$PYENV_ROOT/bin:$PATH\" && pyenv global 3.6.15\n",
        "!export PYENV_ROOT=\"$HOME/.pyenv\" && export PATH=\"$PYENV_ROOT/bin:$PATH\" && pyenv versions\n"
      ]
    },
    {
      "cell_type": "code",
      "execution_count": null,
      "metadata": {
        "id": "gOs20Mt6iRsD"
      },
      "outputs": [],
      "source": [
        "!export PYENV_ROOT=\"$HOME/.pyenv\" && export PATH=\"$PYENV_ROOT/bin:$PATH\" && python --version"
      ]
    },
    {
      "cell_type": "code",
      "execution_count": null,
      "metadata": {
        "id": "iqBfmc2Mi3Dg"
      },
      "outputs": [],
      "source": [
        "!export PYENV_ROOT=\"$HOME/.pyenv\" && export PATH=\"$PYENV_ROOT/bin:$PATH\" && pyenv local proyecto1 && pyenv which python\n",
        "!export PYENV_ROOT=\"$HOME/.pyenv\" && export PATH=\"$PYENV_ROOT/bin:$PATH\" && eval \"$(pyenv init --path)\" && pyenv local training-charRNN/ && cd /content/training-charRNN/ && python -V"
      ]
    },
    {
      "cell_type": "code",
      "execution_count": null,
      "metadata": {
        "id": "sHo8SvI_i-Ud"
      },
      "outputs": [],
      "source": [
        "!export PYENV_ROOT=\"$HOME/.pyenv\" && export PATH=\"$PYENV_ROOT/bin:$PATH\" && eval \"$(pyenv init --path)\" && pyenv local training-charRNN/ && cd /content/training-charRNN/ && python -V"
      ]
    },
    {
      "cell_type": "code",
      "execution_count": null,
      "metadata": {
        "id": "Xg8pOjMBjdKx"
      },
      "outputs": [],
      "source": [
        "!export PYENV_ROOT=\"$HOME/.pyenv\" && export PATH=\"$PYENV_ROOT/bin:$PATH\" && eval \"$(pyenv init --path)\" && pyenv local proyecto1 && cd /content/proyecto1 && wget https://bootstrap.pypa.io/pip/3.6/get-pip.py && python3.6 get-pip.py"
      ]
    },
    {
      "cell_type": "code",
      "execution_count": null,
      "metadata": {
        "id": "hNhoYG7ujpE6"
      },
      "outputs": [],
      "source": [
        "# prefijo\n",
        "#!export PYENV_ROOT=\"$HOME/.pyenv\" && export PATH=\"$PYENV_ROOT/bin:$PATH\" && eval \"$(pyenv init --path)\" &&"
      ]
    },
    {
      "cell_type": "code",
      "execution_count": null,
      "metadata": {
        "id": "Ag-7uOEyjsBs"
      },
      "outputs": [],
      "source": [
        "!export PYENV_ROOT=\"$HOME/.pyenv\" && export PATH=\"$PYENV_ROOT/bin:$PATH\" && eval \"$(pyenv init --path)\" && python3.6 -m pip --version"
      ]
    },
    {
      "cell_type": "code",
      "execution_count": null,
      "metadata": {
        "id": "9poFEy91mIyO"
      },
      "outputs": [],
      "source": [
        "# usar python3.6 y su pip para instalar tensorflow v1.15.4\n",
        "!export PYENV_ROOT=\"$HOME/.pyenv\" && export PATH=\"$PYENV_ROOT/bin:$PATH\" && eval \"$(pyenv init --path)\" && pip install protobuf==3.19.6\n",
        "!export PYENV_ROOT=\"$HOME/.pyenv\" && export PATH=\"$PYENV_ROOT/bin:$PATH\" && eval \"$(pyenv init --path)\" && python3.6 -m pip install tensorflow==1.14.0"
      ]
    },
    {
      "cell_type": "code",
      "execution_count": null,
      "metadata": {
        "id": "cRoW9mOYlf2W"
      },
      "outputs": [],
      "source": [
        "# descargar algunos archivos desde Project Gutenberg\n",
        "# esta es la lista de los más populares https://gutenberg.org/ebooks/search/?sort_order=downloads\n",
        "\n",
        "! wget -O quijote.txt https://gutenberg.org/files/2000/2000-0.txt\n",
        "# ! wget -O sherlock.txt https://gutenberg.org/files/1661/1661-0.txt\n",
        "# ! wget -O frankenstein.txt https://gutenberg.org/files/84/84-0.txt\n",
        "# ! wget -O prideAndPrejudice.txt https://gutenberg.org/files/1342/1342-0.txt\n",
        "# ! wget -O aliceInWonderland.txt https://gutenberg.org/files/11/11-0.txt\n",
        "# ! wget -O dracula.txt https://gutenberg.org/files/345/345-0.txt\n",
        "# ! wget -O mobyDick.txt https://gutenberg.org/files/2701/2701-0.txt\n",
        "# ! wget -O greatGatsby.txt https://gutenberg.org/ebooks/64317.txt.utf-8\n",
        "# ! wget -O metamorphosis.txt https://gutenberg.org/files/5200/5200-0.txt\n",
        "# ! wget -O iliad.txt https://gutenberg.org/files/6130/6130-0.txt\n",
        "# ! wget -O wutheringHeights.txt https://gutenberg.org/files/768/768-0.txt\n",
        "# ! wget -O mysteriousAffair.txt https://gutenberg.org/ebooks/863"
      ]
    },
    {
      "cell_type": "code",
      "execution_count": null,
      "metadata": {
        "colab": {
          "background_save": true
        },
        "id": "ZvuoU3j9li4k"
      },
      "outputs": [],
      "source": [
        "# entrenar con archivo quijote.txt\n",
        "!export PYENV_ROOT=\"$HOME/.pyenv\" && export PATH=\"$PYENV_ROOT/bin:$PATH\" && eval \"$(pyenv init --path)\" && python train.py --data_path ./quijote.txt"
      ]
    },
    {
      "cell_type": "code",
      "execution_count": null,
      "metadata": {
        "id": "oVJ1_7E1sfVY"
      },
      "outputs": [],
      "source": [
        "# comprimir modelo en .zip\n",
        "!zip -r ./modelo.zip ./models/quijote\n",
        "# refrescar disco duro, click derecho en modelo.zip y descargar\n",
        "# después recomiendo borrar el archivo, por si repetimos este paso"
      ]
    }
  ],
  "metadata": {
    "colab": {
      "provenance": []
    },
    "kernelspec": {
      "display_name": "Python 3",
      "name": "python3"
    },
    "language_info": {
      "name": "python"
    }
  },
  "nbformat": 4,
  "nbformat_minor": 0
}