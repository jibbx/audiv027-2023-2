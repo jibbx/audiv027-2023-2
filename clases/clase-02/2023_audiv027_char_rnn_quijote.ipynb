{
  "cells": [
    {
      "cell_type": "markdown",
      "metadata": {
        "colab_type": "text",
        "id": "view-in-github"
      },
      "source": [
        "<a href=\"https://colab.research.google.com/github/disenoUChile/audiv027-2023-2/blob/main/2023_audiv027_char_rnn_quijote.ipynb\" target=\"_parent\"><img src=\"https://colab.research.google.com/assets/colab-badge.svg\" alt=\"Open In Colab\"/></a>"
      ]
    },
    {
      "cell_type": "markdown",
      "metadata": {
        "id": "ZUD4nbAKe_8v"
      },
      "source": [
        "fuente\n",
        "https://blog.devgenius.io/python-environment-management-d920f20ea53e"
      ]
    },
    {
      "cell_type": "code",
      "execution_count": null,
      "metadata": {
        "colab": {
          "base_uri": "https://localhost:8080/"
        },
        "id": "18JMUFeUkBQi",
        "outputId": "53ed5f28-00d0-41db-ea38-10f1c0e28a64"
      },
      "outputs": [],
      "source": [
        "# clonar repositorio de ml5.js para entrenar algoritmo char-RNN\n",
        "! git clone https://github.com/ml5js/training-charRNN"
      ]
    },
    {
      "cell_type": "code",
      "execution_count": null,
      "metadata": {
        "colab": {
          "base_uri": "https://localhost:8080/"
        },
        "id": "F27hQCCikHlf",
        "outputId": "b0964465-0e50-4444-caeb-c4f64d19ed8f"
      },
      "outputs": [],
      "source": [
        "# cd = cambiar directorio, moverse a la carpeta instalada\n",
        "%cd training-charRNN/"
      ]
    },
    {
      "cell_type": "code",
      "execution_count": null,
      "metadata": {
        "colab": {
          "base_uri": "https://localhost:8080/"
        },
        "id": "rcpUrQmpkIIr",
        "outputId": "4c49173d-f546-4e91-f0cb-d143a956fdba"
      },
      "outputs": [],
      "source": [
        "# pwd es print working directory = imprimir directorio actual\n",
        "!pwd"
      ]
    },
    {
      "cell_type": "code",
      "execution_count": null,
      "metadata": {
        "colab": {
          "base_uri": "https://localhost:8080/"
        },
        "id": "P6MC89pLdvyN",
        "outputId": "b1113be3-69c2-40e8-a144-1519c4592838"
      },
      "outputs": [],
      "source": [
        "!export PYENV_ROOT=\"$HOME/.pyenv\" && export PATH=\"$PYENV_ROOT/bin:$PATH\" && eval \"$(pyenv init — path)\""
      ]
    },
    {
      "cell_type": "code",
      "execution_count": null,
      "metadata": {
        "colab": {
          "base_uri": "https://localhost:8080/"
        },
        "id": "AK92XccMdXdj",
        "outputId": "c9bf4b72-9a20-4104-ea4f-ca02ba166086"
      },
      "outputs": [],
      "source": [
        "#https://github.com/pyenv/pyenv-installer\n",
        "!curl https://pyenv.run | bash"
      ]
    },
    {
      "cell_type": "code",
      "execution_count": null,
      "metadata": {
        "colab": {
          "base_uri": "https://localhost:8080/"
        },
        "id": "3lLZZ9fCd2s6",
        "outputId": "06acc4d2-6d03-4ae0-eff0-6ad7a305c34d"
      },
      "outputs": [],
      "source": [
        "!export PYENV_ROOT=\"$HOME/.pyenv\" && export PATH=\"$PYENV_ROOT/bin:$PATH\" && pyenv install -list | grep \"3\\.[6]\""
      ]
    },
    {
      "cell_type": "code",
      "execution_count": null,
      "metadata": {
        "colab": {
          "base_uri": "https://localhost:8080/"
        },
        "id": "FlOjbW8je9bo",
        "outputId": "e03c119a-4ca1-4121-e5b5-1f2332c28f6e"
      },
      "outputs": [],
      "source": [
        "# install python 3.6.15\n",
        "!export PYENV_ROOT=\"$HOME/.pyenv\" && export PATH=\"$PYENV_ROOT/bin:$PATH\" && pyenv install 3.6.15\n",
        "!export PYENV_ROOT=\"$HOME/.pyenv\" && export PATH=\"$PYENV_ROOT/bin:$PATH\" && pyenv versions"
      ]
    },
    {
      "cell_type": "code",
      "execution_count": null,
      "metadata": {
        "colab": {
          "base_uri": "https://localhost:8080/"
        },
        "id": "Cl-I1bCtfM6M",
        "outputId": "3a7c9669-5bed-4680-aa27-3c1bc7016750"
      },
      "outputs": [],
      "source": [
        "!export PYENV_ROOT=\"$HOME/.pyenv\" && export PATH=\"$PYENV_ROOT/bin:$PATH\" && mkdir -p /content/training-charRNN/ && cd /content/training-charRNN/ && pyenv virtualenv 3.6.15 training-charRNN\n",
        "!export PYENV_ROOT=\"$HOME/.pyenv\" && export PATH=\"$PYENV_ROOT/bin:$PATH\" && pyenv versions"
      ]
    },
    {
      "cell_type": "code",
      "execution_count": null,
      "metadata": {
        "colab": {
          "base_uri": "https://localhost:8080/"
        },
        "id": "rIImYKRCgshV",
        "outputId": "eedd4215-ccac-4cff-a965-9f91e26c43cc"
      },
      "outputs": [],
      "source": [
        "!export PYENV_ROOT=\"$HOME/.pyenv\" && export PATH=\"$PYENV_ROOT/bin:$PATH\" && pyenv versions\n",
        "!export PYENV_ROOT=\"$HOME/.pyenv\" && export PATH=\"$PYENV_ROOT/bin:$PATH\" && pyenv global 3.6.15\n",
        "!export PYENV_ROOT=\"$HOME/.pyenv\" && export PATH=\"$PYENV_ROOT/bin:$PATH\" && pyenv versions\n"
      ]
    },
    {
      "cell_type": "code",
      "execution_count": null,
      "metadata": {
        "colab": {
          "base_uri": "https://localhost:8080/"
        },
        "id": "gOs20Mt6iRsD",
        "outputId": "a10e8f4f-7d81-41fd-dfa2-bea1ed49bad1"
      },
      "outputs": [],
      "source": [
        "!export PYENV_ROOT=\"$HOME/.pyenv\" && export PATH=\"$PYENV_ROOT/bin:$PATH\" && python --version"
      ]
    },
    {
      "cell_type": "code",
      "execution_count": null,
      "metadata": {
        "colab": {
          "base_uri": "https://localhost:8080/"
        },
        "id": "iqBfmc2Mi3Dg",
        "outputId": "ba1a491a-f701-4297-b2ca-9cbabfa781ff"
      },
      "outputs": [],
      "source": [
        "!export PYENV_ROOT=\"$HOME/.pyenv\" && export PATH=\"$PYENV_ROOT/bin:$PATH\" && pyenv local proyecto1 && pyenv which python\n",
        "!export PYENV_ROOT=\"$HOME/.pyenv\" && export PATH=\"$PYENV_ROOT/bin:$PATH\" && eval \"$(pyenv init --path)\" && pyenv local training-charRNN/ && cd /content/training-charRNN/ && python -V"
      ]
    },
    {
      "cell_type": "code",
      "execution_count": null,
      "metadata": {
        "colab": {
          "base_uri": "https://localhost:8080/"
        },
        "id": "sHo8SvI_i-Ud",
        "outputId": "5ee6270c-d194-4c83-ae0d-8e18ab74d968"
      },
      "outputs": [],
      "source": [
        "!export PYENV_ROOT=\"$HOME/.pyenv\" && export PATH=\"$PYENV_ROOT/bin:$PATH\" && eval \"$(pyenv init --path)\" && pyenv local training-charRNN/ && cd /content/training-charRNN/ && python -V"
      ]
    },
    {
      "cell_type": "code",
      "execution_count": null,
      "metadata": {
        "colab": {
          "base_uri": "https://localhost:8080/"
        },
        "id": "Xg8pOjMBjdKx",
        "outputId": "8e2761fc-78f1-432b-cd1e-dde3ba6f8a12"
      },
      "outputs": [],
      "source": [
        "!export PYENV_ROOT=\"$HOME/.pyenv\" && export PATH=\"$PYENV_ROOT/bin:$PATH\" && eval \"$(pyenv init --path)\" && pyenv local proyecto1 && cd /content/proyecto1 && wget https://bootstrap.pypa.io/pip/3.6/get-pip.py && python3.6 get-pip.py"
      ]
    },
    {
      "cell_type": "code",
      "execution_count": null,
      "metadata": {
        "id": "hNhoYG7ujpE6"
      },
      "outputs": [],
      "source": [
        "# prefijo\n",
        "#!export PYENV_ROOT=\"$HOME/.pyenv\" && export PATH=\"$PYENV_ROOT/bin:$PATH\" && eval \"$(pyenv init --path)\" &&"
      ]
    },
    {
      "cell_type": "code",
      "execution_count": null,
      "metadata": {
        "colab": {
          "base_uri": "https://localhost:8080/"
        },
        "id": "Ag-7uOEyjsBs",
        "outputId": "70277f73-a568-4743-8fb5-53262c4dfc8d"
      },
      "outputs": [],
      "source": [
        "!export PYENV_ROOT=\"$HOME/.pyenv\" && export PATH=\"$PYENV_ROOT/bin:$PATH\" && eval \"$(pyenv init --path)\" && python3.6 -m pip --version"
      ]
    },
    {
      "cell_type": "code",
      "execution_count": null,
      "metadata": {
        "colab": {
          "base_uri": "https://localhost:8080/"
        },
        "id": "9poFEy91mIyO",
        "outputId": "6665962c-2faf-4e87-fec4-cad4486e048d"
      },
      "outputs": [],
      "source": [
        "# usar python3.6 y su pip para instalar tensorflow v1.15.4\n",
        "!export PYENV_ROOT=\"$HOME/.pyenv\" && export PATH=\"$PYENV_ROOT/bin:$PATH\" && eval \"$(pyenv init --path)\" && pip install protobuf==3.19.6\n",
        "!export PYENV_ROOT=\"$HOME/.pyenv\" && export PATH=\"$PYENV_ROOT/bin:$PATH\" && eval \"$(pyenv init --path)\" && python3.6 -m pip install tensorflow==1.14.0"
      ]
    },
    {
      "cell_type": "code",
      "execution_count": null,
      "metadata": {
        "id": "cRoW9mOYlf2W"
      },
      "outputs": [],
      "source": [
        "# descargar archivos desde Project Gutenberg\n",
        "# esta es la lista de los más populares https://gutenberg.org/ebooks/search/?sort_order=downloads\n",
        "# para este ejemplo bajamos el quijote\n",
        "\n",
        "! wget -O quijote.txt https://gutenberg.org/files/2000/2000-0.txt\n",
        "# ! wget -O sherlock.txt https://gutenberg.org/files/1661/1661-0.txt\n",
        "# ! wget -O frankenstein.txt https://gutenberg.org/files/84/84-0.txt\n",
        "# ! wget -O prideAndPrejudice.txt https://gutenberg.org/files/1342/1342-0.txt\n",
        "# ! wget -O aliceInWonderland.txt https://gutenberg.org/files/11/11-0.txt\n",
        "# ! wget -O dracula.txt https://gutenberg.org/files/345/345-0.txt\n",
        "# ! wget -O mobyDick.txt https://gutenberg.org/files/2701/2701-0.txt\n",
        "# ! wget -O greatGatsby.txt https://gutenberg.org/ebooks/64317.txt.utf-8\n",
        "# ! wget -O metamorphosis.txt https://gutenberg.org/files/5200/5200-0.txt\n",
        "# ! wget -O iliad.txt https://gutenberg.org/files/6130/6130-0.txt\n",
        "# ! wget -O wutheringHeights.txt https://gutenberg.org/files/768/768-0.txt\n",
        "# ! wget -O mysteriousAffair.txt https://gutenberg.org/ebooks/863"
      ]
    },
    {
      "cell_type": "code",
      "execution_count": null,
      "metadata": {
        "colab": {
          "background_save": true
        },
        "id": "ZvuoU3j9li4k"
      },
      "outputs": [],
      "source": [
        "# entrenar con archivo quijote.txt\n",
        "!export PYENV_ROOT=\"$HOME/.pyenv\" && export PATH=\"$PYENV_ROOT/bin:$PATH\" && eval \"$(pyenv init --path)\" && python train.py --data_path ./quijote.txt"
      ]
    },
    {
      "cell_type": "code",
      "execution_count": null,
      "metadata": {
        "id": "oVJ1_7E1sfVY"
      },
      "outputs": [],
      "source": [
        "# comprimir modelo en .zip\n",
        "!zip -r ./modelo.zip ./models/quijote\n",
        "# refrescar disco duro, click derecho en modelo.zip y descargar\n",
        "# después recomiendo borrar el archivo, por si repetimos este paso con otro corpus"
      ]
    }
  ],
  "metadata": {
    "colab": {
      "authorship_tag": "ABX9TyNK/G6b2Uc0vf8WQeBiyZgn",
      "include_colab_link": true,
      "provenance": []
    },
    "kernelspec": {
      "display_name": "Python 3",
      "name": "python3"
    },
    "language_info": {
      "name": "python"
    }
  },
  "nbformat": 4,
  "nbformat_minor": 0
}
